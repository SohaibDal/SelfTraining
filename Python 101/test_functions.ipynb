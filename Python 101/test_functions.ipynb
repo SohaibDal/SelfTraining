{
 "cells": [
  {
   "cell_type": "code",
   "execution_count": 1,
   "metadata": {},
   "outputs": [
    {
     "data": {
      "text/plain": [
       "[0, 2, 4, 6, 8, 10, 12, 14, 16, 18, 20]"
      ]
     },
     "execution_count": 1,
     "metadata": {},
     "output_type": "execute_result"
    }
   ],
   "source": [
    "list(range(0,21,2))"
   ]
  },
  {
   "cell_type": "markdown",
   "metadata": {},
   "source": [
    "### FOR Loop to get even numbers and `Odd` for odd numbers"
   ]
  },
  {
   "cell_type": "code",
   "execution_count": 2,
   "metadata": {},
   "outputs": [
    {
     "name": "stdout",
     "output_type": "stream",
     "text": [
      "0 Odd 2 Odd 4 Odd 6 Odd 8 Odd 10 Odd 12 Odd 14 Odd 16 Odd 18 Odd 20 "
     ]
    }
   ],
   "source": [
    "for n in range(21):\n",
    "    if n % 2 == 0:\n",
    "        print(n, end=\" \")\n",
    "    else:\n",
    "        print('Odd', end=\" \")"
   ]
  },
  {
   "cell_type": "markdown",
   "metadata": {},
   "source": [
    "### For loop on a list"
   ]
  },
  {
   "cell_type": "code",
   "execution_count": 3,
   "metadata": {},
   "outputs": [
    {
     "name": "stdout",
     "output_type": "stream",
     "text": [
      "15 22 37 91 55 "
     ]
    }
   ],
   "source": [
    "x = [15, 22, 37, 91, 55]\n",
    "\n",
    "for n in range(len(x)):\n",
    "    print (x[n], end = \" \")"
   ]
  },
  {
   "cell_type": "markdown",
   "metadata": {},
   "source": [
    "### Function to get only the count of numbers above 10"
   ]
  },
  {
   "cell_type": "code",
   "execution_count": 4,
   "metadata": {},
   "outputs": [
    {
     "data": {
      "text/plain": [
       "6"
      ]
     },
     "execution_count": 4,
     "metadata": {},
     "output_type": "execute_result"
    }
   ],
   "source": [
    "def above_10(numbers):\n",
    "    tot=0\n",
    "    for x in numbers:\n",
    "        if x >=10:\n",
    "            tot += 1\n",
    "    return tot\n",
    "\n",
    "\n",
    "list_1 = [15, 22, 37, 91, 55, 1, 5, 7, 9, 10, 3, 5, 6]\n",
    "above_10(list_1)"
   ]
  },
  {
   "cell_type": "markdown",
   "metadata": {},
   "source": [
    "### For loop to get the total money spent"
   ]
  },
  {
   "cell_type": "code",
   "execution_count": 5,
   "metadata": {},
   "outputs": [
    {
     "name": "stdout",
     "output_type": "stream",
     "text": [
      "74\n"
     ]
    }
   ],
   "source": [
    "prices = {'Spagetti': 4,  'hamburger':2, 'lasagna':5}\n",
    "quantity = {'Spagetti': 6, 'lasagna':10, 'hamburger':0}\n",
    "money_spent=0\n",
    "for i in prices:\n",
    "    money_spent = money_spent + (prices[i] *quantity[i])\n",
    "print(money_spent)"
   ]
  }
 ],
 "metadata": {
  "kernelspec": {
   "display_name": "Python 3",
   "language": "python",
   "name": "python3"
  },
  "language_info": {
   "codemirror_mode": {
    "name": "ipython",
    "version": 3
   },
   "file_extension": ".py",
   "mimetype": "text/x-python",
   "name": "python",
   "nbconvert_exporter": "python",
   "pygments_lexer": "ipython3",
   "version": "3.6.9"
  }
 },
 "nbformat": 4,
 "nbformat_minor": 4
}
